{
 "cells": [
  {
   "cell_type": "code",
   "execution_count": 164,
   "metadata": {},
   "outputs": [],
   "source": [
    "#Import Lib\n",
    "import pandas as pd\n",
    "import numpy as np\n",
    "\n",
    "from sklearn.preprocessing import MinMaxScaler\n",
    "from sklearn.decomposition import PCA\n",
    "from sklearn.model_selection import train_test_split\n",
    "from sklearn import metrics\n",
    "from sklearn.metrics import confusion_matrix\n",
    "from sklearn.metrics import accuracy_score, precision_score, confusion_matrix, recall_score, f1_score\n",
    "\n",
    "from tensorflow.keras.layers import Dense, LSTM, RNN, Embedding, Dropout\n",
    "from tensorflow.keras.models import Sequential\n",
    "\n",
    "from keras.backend import clear_session\n",
    "\n",
    "import os"
   ]
  },
  {
   "cell_type": "code",
   "execution_count": 165,
   "metadata": {},
   "outputs": [
    {
     "name": "stderr",
     "output_type": "stream",
     "text": [
      "C:\\Users\\LEGION\\AppData\\Local\\Temp\\ipykernel_8812\\2343203276.py:1: DtypeWarning: Columns (92) have mixed types. Specify dtype option on import or set low_memory=False.\n",
      "  df = pd.read_csv(r'D:/Users/Desktop/Scientific-research/Deep learning/Data/Android-malware/drebin-215-dataset-5560malware-9476-benign.csv')\n"
     ]
    }
   ],
   "source": [
    "df = pd.read_csv(r'D:/Users/Desktop/Scientific-research/Deep learning/Data/Android-malware/drebin-215-dataset-5560malware-9476-benign.csv')"
   ]
  },
  {
   "cell_type": "code",
   "execution_count": 166,
   "metadata": {},
   "outputs": [
    {
     "data": {
      "text/html": [
       "<div>\n",
       "<style scoped>\n",
       "    .dataframe tbody tr th:only-of-type {\n",
       "        vertical-align: middle;\n",
       "    }\n",
       "\n",
       "    .dataframe tbody tr th {\n",
       "        vertical-align: top;\n",
       "    }\n",
       "\n",
       "    .dataframe thead th {\n",
       "        text-align: right;\n",
       "    }\n",
       "</style>\n",
       "<table border=\"1\" class=\"dataframe\">\n",
       "  <thead>\n",
       "    <tr style=\"text-align: right;\">\n",
       "      <th></th>\n",
       "      <th>transact</th>\n",
       "      <th>onServiceConnected</th>\n",
       "      <th>bindService</th>\n",
       "      <th>attachInterface</th>\n",
       "      <th>ServiceConnection</th>\n",
       "      <th>android.os.Binder</th>\n",
       "      <th>SEND_SMS</th>\n",
       "      <th>Ljava.lang.Class.getCanonicalName</th>\n",
       "      <th>Ljava.lang.Class.getMethods</th>\n",
       "      <th>Ljava.lang.Class.cast</th>\n",
       "      <th>...</th>\n",
       "      <th>READ_CONTACTS</th>\n",
       "      <th>DEVICE_POWER</th>\n",
       "      <th>HARDWARE_TEST</th>\n",
       "      <th>ACCESS_WIFI_STATE</th>\n",
       "      <th>WRITE_EXTERNAL_STORAGE</th>\n",
       "      <th>ACCESS_FINE_LOCATION</th>\n",
       "      <th>SET_WALLPAPER_HINTS</th>\n",
       "      <th>SET_PREFERRED_APPLICATIONS</th>\n",
       "      <th>WRITE_SECURE_SETTINGS</th>\n",
       "      <th>class</th>\n",
       "    </tr>\n",
       "  </thead>\n",
       "  <tbody>\n",
       "    <tr>\n",
       "      <th>0</th>\n",
       "      <td>0</td>\n",
       "      <td>0</td>\n",
       "      <td>0</td>\n",
       "      <td>0</td>\n",
       "      <td>0</td>\n",
       "      <td>0</td>\n",
       "      <td>1</td>\n",
       "      <td>0</td>\n",
       "      <td>0</td>\n",
       "      <td>0</td>\n",
       "      <td>...</td>\n",
       "      <td>0</td>\n",
       "      <td>0</td>\n",
       "      <td>0</td>\n",
       "      <td>0</td>\n",
       "      <td>1</td>\n",
       "      <td>0</td>\n",
       "      <td>0</td>\n",
       "      <td>0</td>\n",
       "      <td>0</td>\n",
       "      <td>S</td>\n",
       "    </tr>\n",
       "    <tr>\n",
       "      <th>1</th>\n",
       "      <td>0</td>\n",
       "      <td>0</td>\n",
       "      <td>0</td>\n",
       "      <td>0</td>\n",
       "      <td>0</td>\n",
       "      <td>0</td>\n",
       "      <td>1</td>\n",
       "      <td>0</td>\n",
       "      <td>0</td>\n",
       "      <td>0</td>\n",
       "      <td>...</td>\n",
       "      <td>0</td>\n",
       "      <td>0</td>\n",
       "      <td>0</td>\n",
       "      <td>0</td>\n",
       "      <td>1</td>\n",
       "      <td>0</td>\n",
       "      <td>0</td>\n",
       "      <td>0</td>\n",
       "      <td>0</td>\n",
       "      <td>S</td>\n",
       "    </tr>\n",
       "    <tr>\n",
       "      <th>2</th>\n",
       "      <td>0</td>\n",
       "      <td>0</td>\n",
       "      <td>0</td>\n",
       "      <td>0</td>\n",
       "      <td>0</td>\n",
       "      <td>0</td>\n",
       "      <td>1</td>\n",
       "      <td>0</td>\n",
       "      <td>0</td>\n",
       "      <td>0</td>\n",
       "      <td>...</td>\n",
       "      <td>0</td>\n",
       "      <td>0</td>\n",
       "      <td>0</td>\n",
       "      <td>0</td>\n",
       "      <td>0</td>\n",
       "      <td>0</td>\n",
       "      <td>0</td>\n",
       "      <td>0</td>\n",
       "      <td>0</td>\n",
       "      <td>S</td>\n",
       "    </tr>\n",
       "    <tr>\n",
       "      <th>3</th>\n",
       "      <td>0</td>\n",
       "      <td>0</td>\n",
       "      <td>0</td>\n",
       "      <td>0</td>\n",
       "      <td>0</td>\n",
       "      <td>0</td>\n",
       "      <td>0</td>\n",
       "      <td>0</td>\n",
       "      <td>0</td>\n",
       "      <td>1</td>\n",
       "      <td>...</td>\n",
       "      <td>0</td>\n",
       "      <td>0</td>\n",
       "      <td>0</td>\n",
       "      <td>1</td>\n",
       "      <td>1</td>\n",
       "      <td>1</td>\n",
       "      <td>0</td>\n",
       "      <td>0</td>\n",
       "      <td>0</td>\n",
       "      <td>S</td>\n",
       "    </tr>\n",
       "    <tr>\n",
       "      <th>4</th>\n",
       "      <td>0</td>\n",
       "      <td>0</td>\n",
       "      <td>0</td>\n",
       "      <td>0</td>\n",
       "      <td>0</td>\n",
       "      <td>0</td>\n",
       "      <td>0</td>\n",
       "      <td>0</td>\n",
       "      <td>0</td>\n",
       "      <td>0</td>\n",
       "      <td>...</td>\n",
       "      <td>0</td>\n",
       "      <td>0</td>\n",
       "      <td>0</td>\n",
       "      <td>1</td>\n",
       "      <td>0</td>\n",
       "      <td>1</td>\n",
       "      <td>0</td>\n",
       "      <td>0</td>\n",
       "      <td>0</td>\n",
       "      <td>S</td>\n",
       "    </tr>\n",
       "  </tbody>\n",
       "</table>\n",
       "<p>5 rows × 216 columns</p>\n",
       "</div>"
      ],
      "text/plain": [
       "   transact  onServiceConnected  bindService  attachInterface  \\\n",
       "0         0                   0            0                0   \n",
       "1         0                   0            0                0   \n",
       "2         0                   0            0                0   \n",
       "3         0                   0            0                0   \n",
       "4         0                   0            0                0   \n",
       "\n",
       "   ServiceConnection  android.os.Binder  SEND_SMS  \\\n",
       "0                  0                  0         1   \n",
       "1                  0                  0         1   \n",
       "2                  0                  0         1   \n",
       "3                  0                  0         0   \n",
       "4                  0                  0         0   \n",
       "\n",
       "   Ljava.lang.Class.getCanonicalName  Ljava.lang.Class.getMethods  \\\n",
       "0                                  0                            0   \n",
       "1                                  0                            0   \n",
       "2                                  0                            0   \n",
       "3                                  0                            0   \n",
       "4                                  0                            0   \n",
       "\n",
       "   Ljava.lang.Class.cast  ...  READ_CONTACTS  DEVICE_POWER  HARDWARE_TEST  \\\n",
       "0                      0  ...              0             0              0   \n",
       "1                      0  ...              0             0              0   \n",
       "2                      0  ...              0             0              0   \n",
       "3                      1  ...              0             0              0   \n",
       "4                      0  ...              0             0              0   \n",
       "\n",
       "   ACCESS_WIFI_STATE  WRITE_EXTERNAL_STORAGE  ACCESS_FINE_LOCATION  \\\n",
       "0                  0                       1                     0   \n",
       "1                  0                       1                     0   \n",
       "2                  0                       0                     0   \n",
       "3                  1                       1                     1   \n",
       "4                  1                       0                     1   \n",
       "\n",
       "   SET_WALLPAPER_HINTS  SET_PREFERRED_APPLICATIONS  WRITE_SECURE_SETTINGS  \\\n",
       "0                    0                           0                      0   \n",
       "1                    0                           0                      0   \n",
       "2                    0                           0                      0   \n",
       "3                    0                           0                      0   \n",
       "4                    0                           0                      0   \n",
       "\n",
       "   class  \n",
       "0      S  \n",
       "1      S  \n",
       "2      S  \n",
       "3      S  \n",
       "4      S  \n",
       "\n",
       "[5 rows x 216 columns]"
      ]
     },
     "execution_count": 166,
     "metadata": {},
     "output_type": "execute_result"
    }
   ],
   "source": [
    "df.head()"
   ]
  },
  {
   "cell_type": "code",
   "execution_count": 167,
   "metadata": {},
   "outputs": [
    {
     "name": "stdout",
     "output_type": "stream",
     "text": [
      "Total missing values:  0\n"
     ]
    }
   ],
   "source": [
    "print(\"Total missing values: \", sum(list(df.isna().sum())))"
   ]
  },
  {
   "cell_type": "code",
   "execution_count": 168,
   "metadata": {},
   "outputs": [],
   "source": [
    "df = df.dropna()"
   ]
  },
  {
   "cell_type": "code",
   "execution_count": 169,
   "metadata": {},
   "outputs": [],
   "source": [
    "#Pretrain dataset\n",
    "def preprocess(dataframe):\n",
    "    dataframe.loc[dataframe['class'] == \"B\", \"class\"] = 0\n",
    "    dataframe.loc[dataframe['class'] == \"S\", \"class\"] = 1\n",
    "\n",
    "    return dataframe"
   ]
  },
  {
   "cell_type": "code",
   "execution_count": 170,
   "metadata": {},
   "outputs": [
    {
     "name": "stdout",
     "output_type": "stream",
     "text": [
      "Total missing values:  5\n"
     ]
    }
   ],
   "source": [
    "df = df.replace('[?]', np.NAN, regex=True)\n",
    "print(\"Total missing values: \", sum(list(df.isna().sum())))\n",
    "df.dropna(inplace=True)"
   ]
  },
  {
   "cell_type": "code",
   "execution_count": 171,
   "metadata": {},
   "outputs": [],
   "source": [
    "scaled_train = preprocess(df)\n",
    "\n",
    "X = scaled_train.drop(['class'], axis=1).values\n",
    "y = scaled_train['class'].values\n",
    "\n",
    "#Reduce dim\n",
    "pca = PCA(n_components=20)\n",
    "pca = pca.fit(X)\n",
    "X_reduced = pca.transform(X)\n",
    "\n",
    "# Convert labels to integers\n",
    "y = y.astype('int')\n",
    "\n",
    "#Split data into training and test sets\n",
    "X_train, X_test, y_train, y_test = train_test_split(X, y, test_size=0.2, random_state=40)"
   ]
  },
  {
   "cell_type": "code",
   "execution_count": 172,
   "metadata": {},
   "outputs": [],
   "source": [
    "X_train = X_train.astype('float32')\n",
    "X_test = X_test.astype('float32')"
   ]
  },
  {
   "cell_type": "code",
   "execution_count": 173,
   "metadata": {},
   "outputs": [
    {
     "name": "stdout",
     "output_type": "stream",
     "text": [
      "(12024, 215)\n",
      "(3007, 215)\n",
      "(12024,)\n",
      "(3007,)\n"
     ]
    }
   ],
   "source": [
    "print(X_train.shape)\n",
    "print(X_test.shape)\n",
    "print(y_train.shape)\n",
    "print(y_test.shape)"
   ]
  },
  {
   "cell_type": "code",
   "execution_count": 174,
   "metadata": {},
   "outputs": [
    {
     "name": "stdout",
     "output_type": "stream",
     "text": [
      "(12024, 215)\n",
      "(3007, 215)\n",
      "(12024, 1)\n",
      "(3007, 1)\n"
     ]
    }
   ],
   "source": [
    "y_train = y_train.reshape((-1,1))\n",
    "y_test = y_test.reshape((-1,1))\n",
    "\n",
    "print(X_train.shape)\n",
    "print(X_test.shape)\n",
    "print(y_train.shape)\n",
    "print(y_test.shape)"
   ]
  },
  {
   "cell_type": "code",
   "execution_count": 175,
   "metadata": {},
   "outputs": [
    {
     "name": "stdout",
     "output_type": "stream",
     "text": [
      "Model: \"sequential_13\"\n",
      "_________________________________________________________________\n",
      " Layer (type)                Output Shape              Param #   \n",
      "=================================================================\n",
      " lstm_13 (LSTM)              (None, 32)                4352      \n",
      "                                                                 \n",
      " dropout_13 (Dropout)        (None, 32)                0         \n",
      "                                                                 \n",
      " dense_13 (Dense)            (None, 16)                528       \n",
      "                                                                 \n",
      " dense_14 (Dense)            (None, 1)                 17        \n",
      "                                                                 \n",
      "=================================================================\n",
      "Total params: 4,897\n",
      "Trainable params: 4,897\n",
      "Non-trainable params: 0\n",
      "_________________________________________________________________\n"
     ]
    }
   ],
   "source": [
    "model = Sequential()\n",
    "model.add(LSTM(units=32, input_shape=(X_train.shape[1], 1)))\n",
    "model.add(Dropout(0.3))\n",
    "model.add(Dense(units=16))\n",
    "model.add(Dense(units=1, activation='sigmoid'))\n",
    "\n",
    "model.summary()"
   ]
  },
  {
   "cell_type": "code",
   "execution_count": 176,
   "metadata": {},
   "outputs": [
    {
     "name": "stdout",
     "output_type": "stream",
     "text": [
      "Epoch 1/50\n",
      "376/376 [==============================] - 6s 13ms/step - loss: 0.6625 - accuracy: 0.6259 - val_loss: 0.6533 - val_accuracy: 0.6412\n",
      "Epoch 2/50\n",
      "376/376 [==============================] - 4s 12ms/step - loss: 0.6613 - accuracy: 0.6277 - val_loss: 0.6547 - val_accuracy: 0.6412\n",
      "Epoch 3/50\n",
      "376/376 [==============================] - 4s 11ms/step - loss: 0.6605 - accuracy: 0.6277 - val_loss: 0.6550 - val_accuracy: 0.6412\n",
      "Epoch 4/50\n",
      "376/376 [==============================] - 4s 11ms/step - loss: 0.6606 - accuracy: 0.6277 - val_loss: 0.6528 - val_accuracy: 0.6412\n",
      "Epoch 5/50\n",
      "376/376 [==============================] - 4s 11ms/step - loss: 0.6607 - accuracy: 0.6277 - val_loss: 0.6548 - val_accuracy: 0.6412\n",
      "Epoch 6/50\n",
      "376/376 [==============================] - 4s 11ms/step - loss: 0.6604 - accuracy: 0.6277 - val_loss: 0.6529 - val_accuracy: 0.6412\n",
      "Epoch 7/50\n",
      "376/376 [==============================] - 4s 11ms/step - loss: 0.6602 - accuracy: 0.6277 - val_loss: 0.6540 - val_accuracy: 0.6412\n",
      "Epoch 8/50\n",
      "376/376 [==============================] - 4s 11ms/step - loss: 0.6611 - accuracy: 0.6273 - val_loss: 0.6546 - val_accuracy: 0.6412\n",
      "Epoch 9/50\n",
      "376/376 [==============================] - 4s 11ms/step - loss: 0.6612 - accuracy: 0.6277 - val_loss: 0.6529 - val_accuracy: 0.6412\n",
      "Epoch 10/50\n",
      "376/376 [==============================] - 4s 11ms/step - loss: 0.6603 - accuracy: 0.6277 - val_loss: 0.6535 - val_accuracy: 0.6412\n",
      "Epoch 11/50\n",
      "376/376 [==============================] - 4s 12ms/step - loss: 0.6603 - accuracy: 0.6277 - val_loss: 0.6531 - val_accuracy: 0.6412\n",
      "Epoch 12/50\n",
      "376/376 [==============================] - 4s 12ms/step - loss: 0.6602 - accuracy: 0.6277 - val_loss: 0.6534 - val_accuracy: 0.6412\n",
      "Epoch 13/50\n",
      "376/376 [==============================] - 4s 12ms/step - loss: 0.6598 - accuracy: 0.6277 - val_loss: 0.6525 - val_accuracy: 0.6412\n",
      "Epoch 14/50\n",
      "376/376 [==============================] - 4s 12ms/step - loss: 0.6585 - accuracy: 0.6277 - val_loss: 0.6372 - val_accuracy: 0.6392\n",
      "Epoch 15/50\n",
      "376/376 [==============================] - 4s 12ms/step - loss: 0.6516 - accuracy: 0.6302 - val_loss: 0.6210 - val_accuracy: 0.6438\n",
      "Epoch 16/50\n",
      "376/376 [==============================] - 4s 12ms/step - loss: 0.4749 - accuracy: 0.7629 - val_loss: 0.3727 - val_accuracy: 0.8450\n",
      "Epoch 17/50\n",
      "376/376 [==============================] - 4s 12ms/step - loss: 0.6468 - accuracy: 0.6391 - val_loss: 0.6602 - val_accuracy: 0.6412\n",
      "Epoch 18/50\n",
      "376/376 [==============================] - 4s 12ms/step - loss: 0.6615 - accuracy: 0.6276 - val_loss: 0.6536 - val_accuracy: 0.6412\n",
      "Epoch 19/50\n",
      "376/376 [==============================] - 4s 12ms/step - loss: 0.6622 - accuracy: 0.6277 - val_loss: 0.6558 - val_accuracy: 0.6412\n",
      "Epoch 20/50\n",
      "376/376 [==============================] - 4s 12ms/step - loss: 0.6602 - accuracy: 0.6277 - val_loss: 0.6527 - val_accuracy: 0.6412\n",
      "Epoch 21/50\n",
      "376/376 [==============================] - 4s 12ms/step - loss: 0.6604 - accuracy: 0.6277 - val_loss: 0.6529 - val_accuracy: 0.6412\n",
      "Epoch 22/50\n",
      "376/376 [==============================] - 4s 12ms/step - loss: 0.6606 - accuracy: 0.6277 - val_loss: 0.6525 - val_accuracy: 0.6412\n",
      "Epoch 23/50\n",
      "376/376 [==============================] - 4s 12ms/step - loss: 0.6602 - accuracy: 0.6277 - val_loss: 0.6539 - val_accuracy: 0.6412\n",
      "Epoch 24/50\n",
      "376/376 [==============================] - 4s 12ms/step - loss: 0.6582 - accuracy: 0.6277 - val_loss: 0.6178 - val_accuracy: 0.6412\n",
      "Epoch 25/50\n",
      "376/376 [==============================] - 4s 12ms/step - loss: 0.4251 - accuracy: 0.8186 - val_loss: 0.4191 - val_accuracy: 0.8284\n",
      "Epoch 26/50\n",
      "376/376 [==============================] - 4s 12ms/step - loss: 0.3786 - accuracy: 0.8489 - val_loss: 0.3723 - val_accuracy: 0.8570\n",
      "Epoch 27/50\n",
      "376/376 [==============================] - 4s 12ms/step - loss: 0.3735 - accuracy: 0.8461 - val_loss: 0.3414 - val_accuracy: 0.8577\n",
      "Epoch 28/50\n",
      "376/376 [==============================] - 4s 12ms/step - loss: 0.3657 - accuracy: 0.8523 - val_loss: 0.3302 - val_accuracy: 0.8703\n",
      "Epoch 29/50\n",
      "376/376 [==============================] - 4s 12ms/step - loss: 0.3567 - accuracy: 0.8530 - val_loss: 0.3246 - val_accuracy: 0.8713\n",
      "Epoch 30/50\n",
      "376/376 [==============================] - 4s 12ms/step - loss: 0.3479 - accuracy: 0.8642 - val_loss: 0.3216 - val_accuracy: 0.8783\n",
      "Epoch 31/50\n",
      "376/376 [==============================] - 4s 12ms/step - loss: 0.3558 - accuracy: 0.8576 - val_loss: 0.3234 - val_accuracy: 0.8716\n",
      "Epoch 32/50\n",
      "376/376 [==============================] - 4s 12ms/step - loss: 0.3537 - accuracy: 0.8580 - val_loss: 0.3106 - val_accuracy: 0.8806\n",
      "Epoch 33/50\n",
      "376/376 [==============================] - 4s 12ms/step - loss: 0.3389 - accuracy: 0.8645 - val_loss: 0.3134 - val_accuracy: 0.8789\n",
      "Epoch 34/50\n",
      "376/376 [==============================] - 4s 12ms/step - loss: 0.3346 - accuracy: 0.8693 - val_loss: 0.3003 - val_accuracy: 0.8906\n",
      "Epoch 35/50\n",
      "376/376 [==============================] - 4s 12ms/step - loss: 0.3323 - accuracy: 0.8694 - val_loss: 0.2969 - val_accuracy: 0.8959\n",
      "Epoch 36/50\n",
      "376/376 [==============================] - 4s 12ms/step - loss: 0.3326 - accuracy: 0.8675 - val_loss: 0.4247 - val_accuracy: 0.8078\n",
      "Epoch 37/50\n",
      "376/376 [==============================] - 4s 12ms/step - loss: 0.3204 - accuracy: 0.8767 - val_loss: 0.2993 - val_accuracy: 0.8846\n",
      "Epoch 38/50\n",
      "376/376 [==============================] - 4s 12ms/step - loss: 0.3257 - accuracy: 0.8716 - val_loss: 0.2944 - val_accuracy: 0.8976\n",
      "Epoch 39/50\n",
      "376/376 [==============================] - 4s 12ms/step - loss: 0.3247 - accuracy: 0.8750 - val_loss: 0.3462 - val_accuracy: 0.8540\n",
      "Epoch 40/50\n",
      "376/376 [==============================] - 4s 12ms/step - loss: 0.3150 - accuracy: 0.8779 - val_loss: 0.2902 - val_accuracy: 0.8962\n",
      "Epoch 41/50\n",
      "376/376 [==============================] - 4s 12ms/step - loss: 0.3092 - accuracy: 0.8838 - val_loss: 0.2898 - val_accuracy: 0.8846\n",
      "Epoch 42/50\n",
      "376/376 [==============================] - 4s 12ms/step - loss: 0.2976 - accuracy: 0.8885 - val_loss: 0.3046 - val_accuracy: 0.8999\n",
      "Epoch 43/50\n",
      "376/376 [==============================] - 4s 12ms/step - loss: 0.3109 - accuracy: 0.8814 - val_loss: 0.2809 - val_accuracy: 0.8986\n",
      "Epoch 44/50\n",
      "376/376 [==============================] - 4s 12ms/step - loss: 0.2776 - accuracy: 0.8956 - val_loss: 0.2551 - val_accuracy: 0.9102\n",
      "Epoch 45/50\n",
      "376/376 [==============================] - 4s 12ms/step - loss: 0.2722 - accuracy: 0.8980 - val_loss: 0.2669 - val_accuracy: 0.8906\n",
      "Epoch 46/50\n",
      "376/376 [==============================] - 4s 12ms/step - loss: 0.2713 - accuracy: 0.8981 - val_loss: 0.2301 - val_accuracy: 0.9132\n",
      "Epoch 47/50\n",
      "376/376 [==============================] - 4s 12ms/step - loss: 0.2563 - accuracy: 0.9018 - val_loss: 0.2481 - val_accuracy: 0.9125\n",
      "Epoch 48/50\n",
      "376/376 [==============================] - 4s 12ms/step - loss: 0.2730 - accuracy: 0.9005 - val_loss: 0.2423 - val_accuracy: 0.9132\n",
      "Epoch 49/50\n",
      "376/376 [==============================] - 4s 12ms/step - loss: 0.2605 - accuracy: 0.9060 - val_loss: 0.2344 - val_accuracy: 0.9189\n",
      "Epoch 50/50\n",
      "376/376 [==============================] - 4s 12ms/step - loss: 0.2373 - accuracy: 0.9138 - val_loss: 0.2161 - val_accuracy: 0.9272\n"
     ]
    }
   ],
   "source": [
    "# Compile models\n",
    "model.compile(optimizer='adam', loss='binary_crossentropy', metrics=['accuracy'])\n",
    "\n",
    "# Fit model\n",
    "history = model.fit(X_train.reshape((X_train.shape[0], X_train.shape[1], 1)), y_train, epochs=50, batch_size=32,\n",
    "                    validation_data=(X_test.reshape((X_test.shape[0], X_test.shape[1], 1)), y_test))"
   ]
  },
  {
   "cell_type": "code",
   "execution_count": 177,
   "metadata": {},
   "outputs": [
    {
     "name": "stdout",
     "output_type": "stream",
     "text": [
      "94/94 [==============================] - 1s 4ms/step\n",
      "Confusion matrix: [[1840   88]\n",
      " [ 131  948]]\n",
      "Accuracy: 0.9271699368141004\n",
      "Precision: 0.915057915057915\n",
      "Recall: 0.8785912882298424\n",
      "F1 Score: 0.8964539007092198\n"
     ]
    }
   ],
   "source": [
    "# Predicted values\n",
    "y_pred = model.predict(X_test.reshape((X_test.shape[0], X_test.shape[1], 1)))\n",
    "y_pred = (y_pred > 0.5)\n",
    "\n",
    "print(\"Confusion matrix:\", confusion_matrix(y_test, y_pred))\n",
    "print(\"Accuracy:\", accuracy_score(y_test, y_pred))\n",
    "print(\"Precision:\", precision_score(y_test, y_pred))\n",
    "print(\"Recall:\", recall_score(y_test, y_pred))\n",
    "print(\"F1 Score:\", f1_score(y_test, y_pred))"
   ]
  },
  {
   "cell_type": "code",
   "execution_count": 178,
   "metadata": {},
   "outputs": [
    {
     "data": {
      "image/png": "[encoded data removed]",
      "text/plain": [
       "<Figure size 1200x400 with 2 Axes>"
      ]
     },
     "metadata": {},
     "output_type": "display_data"
    }
   ],
   "source": [
    "# Draw chart\n",
    "import matplotlib.pyplot as plt\n",
    "\n",
    "# Lấy ra các giá trị loss và accuracy từ history object\n",
    "train_loss = history.history['loss']\n",
    "val_loss = history.history['val_loss']\n",
    "train_acc = history.history['accuracy']\n",
    "val_acc = history.history['val_accuracy']\n",
    "\n",
    "# Vẽ biểu đồ\n",
    "fig, ax = plt.subplots(ncols=2, figsize=(12, 4))\n",
    "\n",
    "ax[0].plot(train_loss, label='train_loss')\n",
    "ax[0].plot(val_loss, label='val_loss')\n",
    "ax[0].set_title('Loss')\n",
    "ax[0].legend()\n",
    "\n",
    "ax[1].plot(train_acc, label='train_acc')\n",
    "ax[1].plot(val_acc, label='val_acc')\n",
    "ax[1].set_title('Accuracy')\n",
    "ax[1].legend()\n",
    "\n",
    "# Điều chỉnh khoảng cách giữa hai biểu đồ\n",
    "plt.subplots_adjust(wspace=0.5)\n",
    "\n",
    "plt.show()"
   ]
  }
 ],
 "metadata": {
  "kernelspec": {
   "display_name": "Python 3",
   "language": "python",
   "name": "python3"
  },
  "language_info": {
   "codemirror_mode": {
    "name": "ipython",
    "version": 3
   },
   "file_extension": ".py",
   "mimetype": "text/x-python",
   "name": "python",
   "nbconvert_exporter": "python",
   "pygments_lexer": "ipython3",
   "version": "3.8.10"
  },
  "orig_nbformat": 4
 },
 "nbformat": 4,
 "nbformat_minor": 2
}
