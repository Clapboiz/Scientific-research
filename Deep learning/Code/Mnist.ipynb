{
 "cells": [
  {
   "cell_type": "code",
   "execution_count": 2,
   "id": "5fdc98b5",
   "metadata": {},
   "outputs": [
    {
     "name": "stderr",
     "output_type": "stream",
     "text": [
      "2023-04-14 13:41:43.177651: I tensorflow/tsl/cuda/cudart_stub.cc:28] Could not find cuda drivers on your machine, GPU will not be used.\n",
      "2023-04-14 13:41:43.546825: I tensorflow/tsl/cuda/cudart_stub.cc:28] Could not find cuda drivers on your machine, GPU will not be used.\n",
      "2023-04-14 13:41:43.548850: I tensorflow/core/platform/cpu_feature_guard.cc:182] This TensorFlow binary is optimized to use available CPU instructions in performance-critical operations.\n",
      "To enable the following instructions: AVX2 FMA, in other operations, rebuild TensorFlow with the appropriate compiler flags.\n",
      "2023-04-14 13:41:44.970970: W tensorflow/compiler/tf2tensorrt/utils/py_utils.cc:38] TF-TRT Warning: Could not find TensorRT\n"
     ]
    }
   ],
   "source": [
    "import numpy as np\n",
    "import keras\n",
    "import tensorflow as tf\n",
    "from keras.datasets import mnist\n",
    "from keras.models import Model\n",
    "from keras.layers import Dense, Input\n",
    "from keras.layers import Conv2D, MaxPooling2D, Dropout, Flatten\n",
    "from keras import backend as k\n",
    "from keras.models import Sequential\n",
    "from sklearn.model_selection import train_test_split\n",
    "from keras.layers import BatchNormalization"
   ]
  },
  {
   "cell_type": "code",
   "execution_count": 3,
   "id": "674491d0",
   "metadata": {},
   "outputs": [
    {
     "name": "stdout",
     "output_type": "stream",
     "text": [
      "X_train shape: (45000, 28, 28, 1)\n",
      "X_valid shape: (15000, 28, 28)\n",
      "X_test shape: (10000, 28, 28, 1)\n"
     ]
    }
   ],
   "source": [
    "(X_train, y_train), (X_test, y_test) = mnist.load_data()\n",
    "\n",
    "#split dataset\n",
    "X_train, X_valid, y_train, y_valid = train_test_split(X_train, y_train, test_size=0.25)\n",
    "img_rows, img_cols=28, 28\n",
    "\n",
    "#reshaping\n",
    "#this assumes our data format\n",
    "#For 3D data, reshape 2D->3D\n",
    "if k.image_data_format() == 'channels_first':\n",
    "    X_train = X_train.reshape(X_train.shape[0], 1, img_rows, img_cols)\n",
    "    X_test = X_test.reshape(X_test.shape[0], 1, img_rows, img_cols)\n",
    "    input_shape = (1, img_rows, img_cols)\n",
    "else:\n",
    "    X_train = X_train.reshape(X_train.shape[0], img_rows, img_cols, 1)\n",
    "    X_test = X_test.reshape(X_test.shape[0], img_rows, img_cols, 1)\n",
    "    input_shape = (img_rows, img_cols, 1)\n",
    "#more reshaping\n",
    "X_train = X_train.astype('float32')\n",
    "X_test = X_test.astype('float32')\n",
    "\n",
    "X_train /= 255\n",
    "X_test /= 255\n",
    "\n",
    "X_valid = X_valid.astype('float32')\n",
    "X_valid /= 255\n",
    "\n",
    "print('X_train shape:', X_train.shape)\n",
    "print('X_valid shape:', X_valid.shape)\n",
    "print('X_test shape:', X_test.shape)"
   ]
  },
  {
   "cell_type": "code",
   "execution_count": 4,
   "id": "f4f6a522",
   "metadata": {},
   "outputs": [],
   "source": [
    "#set number of categories\n",
    "num_category = 10\n",
    "# convert class vectors to binary class matrices\n",
    "y_train = keras.utils.to_categorical(y_train, num_category)\n",
    "y_test = keras.utils.to_categorical(y_test, num_category)\n",
    "y_valid = keras.utils.to_categorical(y_valid, num_category)"
   ]
  },
  {
   "cell_type": "code",
   "execution_count": 5,
   "id": "e95b94aa",
   "metadata": {},
   "outputs": [
    {
     "name": "stderr",
     "output_type": "stream",
     "text": [
      "2023-04-14 13:41:53.968311: E tensorflow/compiler/xla/stream_executor/cuda/cuda_driver.cc:266] failed call to cuInit: CUDA_ERROR_NO_DEVICE: no CUDA-capable device is detected\n"
     ]
    }
   ],
   "source": [
    "##model building\n",
    "model = Sequential()\n",
    "\n",
    "model.add(Conv2D(32, kernel_size=(3, 3),\n",
    "                 activation='relu',\n",
    "                 input_shape=input_shape))\n",
    "\n",
    "model.add(BatchNormalization())\n",
    "\n",
    "model.add(Conv2D(64, (3, 3), activation='relu'))\n",
    "\n",
    "model.add(MaxPooling2D(pool_size=(2, 2)))\n",
    "\n",
    "model.add(Dropout(0.25))\n",
    "\n",
    "model.add(Flatten())\n",
    "\n",
    "model.add(BatchNormalization())\n",
    "\n",
    "model.add(Dense(128, activation='relu'))\n",
    "\n",
    "model.add(Dropout(0.5))\n",
    "\n",
    "model.add(Dense(num_category, activation='softmax'))"
   ]
  },
  {
   "cell_type": "code",
   "execution_count": 6,
   "id": "f07ccf5b",
   "metadata": {},
   "outputs": [],
   "source": [
    "model.compile(loss=keras.losses.categorical_crossentropy,\n",
    "              optimizer=keras.optimizers.Nadam(),\n",
    "              metrics=['accuracy'])"
   ]
  },
  {
   "cell_type": "code",
   "execution_count": 7,
   "id": "44b02ab0",
   "metadata": {},
   "outputs": [],
   "source": [
    "tf.keras.backend.clear_session() # run this to clear backend before recompiling model"
   ]
  },
  {
   "cell_type": "code",
   "execution_count": 8,
   "id": "f1110430",
   "metadata": {},
   "outputs": [
    {
     "name": "stdout",
     "output_type": "stream",
     "text": [
      "Epoch 1/50\n",
      "352/352 [==============================] - 46s 127ms/step - loss: 0.3111 - accuracy: 0.9192 - val_loss: 2.9547 - val_accuracy: 0.3183\n",
      "Epoch 2/50\n",
      "352/352 [==============================] - 44s 125ms/step - loss: 0.1292 - accuracy: 0.9645 - val_loss: 0.0661 - val_accuracy: 0.9794\n",
      "Epoch 3/50\n",
      "352/352 [==============================] - 46s 132ms/step - loss: 0.0890 - accuracy: 0.9742 - val_loss: 0.0531 - val_accuracy: 0.9829\n",
      "Epoch 4/50\n",
      "352/352 [==============================] - 43s 123ms/step - loss: 0.0671 - accuracy: 0.9806 - val_loss: 0.0506 - val_accuracy: 0.9856\n",
      "Epoch 5/50\n",
      "352/352 [==============================] - 43s 123ms/step - loss: 0.0633 - accuracy: 0.9808 - val_loss: 0.0417 - val_accuracy: 0.9888\n",
      "Epoch 6/50\n",
      "352/352 [==============================] - 44s 125ms/step - loss: 0.0534 - accuracy: 0.9834 - val_loss: 0.0453 - val_accuracy: 0.9865\n",
      "Epoch 7/50\n",
      "352/352 [==============================] - 46s 130ms/step - loss: 0.0457 - accuracy: 0.9860 - val_loss: 0.0455 - val_accuracy: 0.9878\n",
      "Epoch 8/50\n",
      "352/352 [==============================] - 42s 121ms/step - loss: 0.0433 - accuracy: 0.9865 - val_loss: 0.0420 - val_accuracy: 0.9895\n",
      "Epoch 9/50\n",
      "352/352 [==============================] - 46s 132ms/step - loss: 0.0466 - accuracy: 0.9861 - val_loss: 0.0465 - val_accuracy: 0.9881\n",
      "Epoch 10/50\n",
      "352/352 [==============================] - 47s 133ms/step - loss: 0.0410 - accuracy: 0.9869 - val_loss: 0.0519 - val_accuracy: 0.9880\n",
      "Epoch 11/50\n",
      "352/352 [==============================] - 49s 139ms/step - loss: 0.0368 - accuracy: 0.9885 - val_loss: 0.0427 - val_accuracy: 0.9886\n",
      "Epoch 12/50\n",
      "352/352 [==============================] - 49s 140ms/step - loss: 0.0390 - accuracy: 0.9884 - val_loss: 0.0598 - val_accuracy: 0.9869\n",
      "Epoch 13/50\n",
      "352/352 [==============================] - 48s 137ms/step - loss: 0.0343 - accuracy: 0.9896 - val_loss: 0.0453 - val_accuracy: 0.9908\n",
      "Epoch 14/50\n",
      "352/352 [==============================] - 52s 148ms/step - loss: 0.0358 - accuracy: 0.9894 - val_loss: 0.0539 - val_accuracy: 0.9878\n",
      "Epoch 15/50\n",
      "352/352 [==============================] - 48s 136ms/step - loss: 0.0330 - accuracy: 0.9902 - val_loss: 0.0529 - val_accuracy: 0.9888\n",
      "Epoch 16/50\n",
      "352/352 [==============================] - 46s 132ms/step - loss: 0.0338 - accuracy: 0.9900 - val_loss: 0.0571 - val_accuracy: 0.9898\n",
      "Epoch 17/50\n",
      "352/352 [==============================] - 54s 153ms/step - loss: 0.0327 - accuracy: 0.9899 - val_loss: 0.0450 - val_accuracy: 0.9907\n",
      "Epoch 18/50\n",
      "352/352 [==============================] - 48s 137ms/step - loss: 0.0321 - accuracy: 0.9903 - val_loss: 0.0455 - val_accuracy: 0.9901\n",
      "Epoch 19/50\n",
      "352/352 [==============================] - 48s 136ms/step - loss: 0.0330 - accuracy: 0.9899 - val_loss: 0.0448 - val_accuracy: 0.9906\n",
      "Epoch 20/50\n",
      "352/352 [==============================] - 46s 130ms/step - loss: 0.0279 - accuracy: 0.9914 - val_loss: 0.0440 - val_accuracy: 0.9911\n",
      "Epoch 21/50\n",
      "352/352 [==============================] - 48s 135ms/step - loss: 0.0290 - accuracy: 0.9913 - val_loss: 0.0645 - val_accuracy: 0.9890\n",
      "Epoch 22/50\n",
      "352/352 [==============================] - 45s 127ms/step - loss: 0.0332 - accuracy: 0.9907 - val_loss: 0.0529 - val_accuracy: 0.9907\n",
      "Epoch 23/50\n",
      "352/352 [==============================] - 45s 128ms/step - loss: 0.0277 - accuracy: 0.9919 - val_loss: 0.0523 - val_accuracy: 0.9899\n",
      "Epoch 24/50\n",
      "352/352 [==============================] - 45s 129ms/step - loss: 0.0318 - accuracy: 0.9910 - val_loss: 0.0584 - val_accuracy: 0.9893\n",
      "Epoch 25/50\n",
      "352/352 [==============================] - 46s 132ms/step - loss: 0.0295 - accuracy: 0.9913 - val_loss: 0.0515 - val_accuracy: 0.9901\n",
      "Epoch 26/50\n",
      "352/352 [==============================] - 48s 136ms/step - loss: 0.0278 - accuracy: 0.9916 - val_loss: 0.0491 - val_accuracy: 0.9905\n",
      "Epoch 27/50\n",
      "352/352 [==============================] - 49s 138ms/step - loss: 0.0266 - accuracy: 0.9923 - val_loss: 0.0525 - val_accuracy: 0.9896\n",
      "Epoch 28/50\n",
      "352/352 [==============================] - 48s 136ms/step - loss: 0.0224 - accuracy: 0.9935 - val_loss: 0.0604 - val_accuracy: 0.9907\n",
      "Epoch 29/50\n",
      "352/352 [==============================] - 46s 131ms/step - loss: 0.0225 - accuracy: 0.9937 - val_loss: 0.0518 - val_accuracy: 0.9920\n",
      "Epoch 30/50\n",
      "352/352 [==============================] - 46s 131ms/step - loss: 0.0225 - accuracy: 0.9938 - val_loss: 0.0502 - val_accuracy: 0.9912\n",
      "Epoch 31/50\n",
      "352/352 [==============================] - 46s 131ms/step - loss: 0.0265 - accuracy: 0.9925 - val_loss: 0.0543 - val_accuracy: 0.9903\n",
      "Epoch 32/50\n",
      "352/352 [==============================] - 45s 127ms/step - loss: 0.0282 - accuracy: 0.9924 - val_loss: 0.0537 - val_accuracy: 0.9917\n",
      "Epoch 33/50\n",
      "352/352 [==============================] - 43s 123ms/step - loss: 0.0220 - accuracy: 0.9937 - val_loss: 0.0381 - val_accuracy: 0.9915\n",
      "Epoch 34/50\n",
      "352/352 [==============================] - 43s 123ms/step - loss: 0.0212 - accuracy: 0.9938 - val_loss: 0.0543 - val_accuracy: 0.9893\n",
      "Epoch 35/50\n",
      "352/352 [==============================] - 45s 129ms/step - loss: 0.0217 - accuracy: 0.9942 - val_loss: 0.0547 - val_accuracy: 0.9912\n",
      "Epoch 36/50\n",
      "352/352 [==============================] - 48s 136ms/step - loss: 0.0202 - accuracy: 0.9942 - val_loss: 0.0813 - val_accuracy: 0.9907\n",
      "Epoch 37/50\n",
      "352/352 [==============================] - 48s 135ms/step - loss: 0.0212 - accuracy: 0.9940 - val_loss: 0.0655 - val_accuracy: 0.9916\n",
      "Epoch 38/50\n",
      "352/352 [==============================] - 46s 131ms/step - loss: 0.0229 - accuracy: 0.9941 - val_loss: 0.0720 - val_accuracy: 0.9897\n",
      "Epoch 39/50\n",
      "352/352 [==============================] - 46s 130ms/step - loss: 0.0223 - accuracy: 0.9937 - val_loss: 0.0595 - val_accuracy: 0.9911\n",
      "Epoch 40/50\n",
      "352/352 [==============================] - 46s 131ms/step - loss: 0.0236 - accuracy: 0.9939 - val_loss: 0.0648 - val_accuracy: 0.9889\n",
      "Epoch 41/50\n",
      "352/352 [==============================] - 44s 125ms/step - loss: 0.0202 - accuracy: 0.9946 - val_loss: 0.0867 - val_accuracy: 0.9894\n",
      "Epoch 42/50\n",
      "352/352 [==============================] - 44s 124ms/step - loss: 0.0208 - accuracy: 0.9942 - val_loss: 0.0822 - val_accuracy: 0.9897\n",
      "Epoch 43/50\n",
      "352/352 [==============================] - 45s 129ms/step - loss: 0.0253 - accuracy: 0.9936 - val_loss: 0.0828 - val_accuracy: 0.9888\n",
      "Epoch 44/50\n",
      "352/352 [==============================] - 43s 123ms/step - loss: 0.0269 - accuracy: 0.9934 - val_loss: 0.0720 - val_accuracy: 0.9899\n",
      "Epoch 45/50\n",
      "352/352 [==============================] - 44s 124ms/step - loss: 0.0236 - accuracy: 0.9938 - val_loss: 0.0590 - val_accuracy: 0.9899\n",
      "Epoch 46/50\n",
      "352/352 [==============================] - 44s 126ms/step - loss: 0.0174 - accuracy: 0.9949 - val_loss: 0.0528 - val_accuracy: 0.9899\n",
      "Epoch 47/50\n",
      "352/352 [==============================] - 45s 127ms/step - loss: 0.0216 - accuracy: 0.9942 - val_loss: 0.0699 - val_accuracy: 0.9897\n",
      "Epoch 48/50\n",
      "352/352 [==============================] - 44s 124ms/step - loss: 0.0232 - accuracy: 0.9944 - val_loss: 0.0721 - val_accuracy: 0.9908\n",
      "Epoch 49/50\n",
      "352/352 [==============================] - 44s 126ms/step - loss: 0.0208 - accuracy: 0.9949 - val_loss: 0.0660 - val_accuracy: 0.9910\n",
      "Epoch 50/50\n",
      "352/352 [==============================] - 44s 126ms/step - loss: 0.0196 - accuracy: 0.9948 - val_loss: 0.0775 - val_accuracy: 0.9915\n"
     ]
    }
   ],
   "source": [
    "batch_size = 128\n",
    "num_epoch = 50\n",
    "#model training\n",
    "model_log = model.fit(X_train, y_train,\n",
    "          batch_size=batch_size,\n",
    "          epochs=num_epoch,\n",
    "          verbose=1,\n",
    "          validation_data=(X_test, y_test))"
   ]
  },
  {
   "cell_type": "code",
   "execution_count": null,
   "id": "aa136c5f",
   "metadata": {},
   "outputs": [],
   "source": []
  }
 ],
 "metadata": {
  "kernelspec": {
   "display_name": "Python 3 (ipykernel)",
   "language": "python",
   "name": "python3"
  },
  "language_info": {
   "codemirror_mode": {
    "name": "ipython",
    "version": 3
   },
   "file_extension": ".py",
   "mimetype": "text/x-python",
   "name": "python",
   "nbconvert_exporter": "python",
   "pygments_lexer": "ipython3",
   "version": "3.9.16"
  }
 },
 "nbformat": 4,
 "nbformat_minor": 5
}
